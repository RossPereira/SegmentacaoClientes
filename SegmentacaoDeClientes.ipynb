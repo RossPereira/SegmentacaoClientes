{
  "nbformat": 4,
  "nbformat_minor": 0,
  "metadata": {
    "colab": {
      "name": "SegmentacaoDeClientes.ipynb",
      "provenance": [],
      "collapsed_sections": [],
      "authorship_tag": "ABX9TyMtO13tyJfXY7g3Fp1FcKXh",
      "include_colab_link": true
    },
    "kernelspec": {
      "name": "python3",
      "display_name": "Python 3"
    },
    "language_info": {
      "name": "python"
    }
  },
  "cells": [
    {
      "cell_type": "markdown",
      "metadata": {
        "id": "view-in-github",
        "colab_type": "text"
      },
      "source": [
        "<a href=\"https://colab.research.google.com/github/RossPereira/SegmentacaoClientes/blob/main/SegmentacaoDeClientes.ipynb\" target=\"_parent\"><img src=\"https://colab.research.google.com/assets/colab-badge.svg\" alt=\"Open In Colab\"/></a>"
      ]
    },
    {
      "cell_type": "markdown",
      "source": [
        "#**Problema de negócio:**"
      ],
      "metadata": {
        "id": "cIoudayPYiis"
      }
    },
    {
      "cell_type": "markdown",
      "source": [
        ""
      ],
      "metadata": {
        "id": "j33kiRkoYlpu"
      }
    },
    {
      "cell_type": "markdown",
      "source": [
        "## **CARREGANDO DADOS, BIBLIOTECAS, ANÁLISES DESCRITIVAS**"
      ],
      "metadata": {
        "id": "A77hCqlzYrUN"
      }
    },
    {
      "cell_type": "markdown",
      "source": [
        "**Importando as bibliotecas**"
      ],
      "metadata": {
        "id": "8klE9rHVYs9t"
      }
    },
    {
      "cell_type": "code",
      "source": [
        "import pandas as pd\n",
        "import numpy as np\n",
        "import seaborn as sns\n",
        "import matplotlib.pyplot as plt"
      ],
      "metadata": {
        "id": "dc7UeAVmYwPd"
      },
      "execution_count": 1,
      "outputs": []
    },
    {
      "cell_type": "markdown",
      "source": [
        "Base Disponivel em: https://www.kaggle.com/arjunbhasin2013/ccdata"
      ],
      "metadata": {
        "id": "QiK6Zt07Y--N"
      }
    },
    {
      "cell_type": "markdown",
      "source": [
        "**Descrição das Varáveis:**\n",
        "\n",
        "* Balance: Saldo para fazer compras\n",
        "* Balance_Frequency: Frequência que o saldo é atualizado (1= Frequente, 0= não frequente)\n",
        "* Purchases: Quantidade de compras realizadas\n",
        "* OneOffPurchases: Quantidade de compras feitas de uma só vez (sem parcelar)\n",
        "* Installments_Purchases: Quantidade de compras parceladas\n",
        "* Cash_advance: Saque com cartao de crédito\n",
        "* Purchase_Frequency: Frequência de compras(entre 0 e 1)\n",
        "* Oneoff_Purchase_Frequency: Frequência de compras a vista (entre 0 e 1)\n",
        "* Purchases_Installments_Frequency: Frequência de compras parceladas (entre 0 e 1)\n",
        "* Cash_Advance_Frequency: Frequência de saques adiantados\n",
        "* Cash_Advance_TRX: Número de transações feitas cash in advance\n",
        "* Purchases_TRX: Número de compras\n",
        "* Credit_Limit: Limite do cartão\n",
        "* Payments: Valor Pago\n",
        "* Minimum_Payments: Valor Mínimo pago\n",
        "* PRC_Full_Payment: Percentual de pagamentos em que a fatura foi paga completamente.\n",
        "* Tenure: Posse do titular"
      ],
      "metadata": {
        "id": "FR3drQjfaMv7"
      }
    },
    {
      "cell_type": "code",
      "source": [
        "baseLink = \"https://raw.githubusercontent.com/RossPereira/SegmentacaoClientes/main/Bases/Base.csv\"\n",
        "base = pd.read_csv(baseLink)\n",
        "pd.set_option('display.max_columns', None)"
      ],
      "metadata": {
        "id": "1pM7BL8VgQyo"
      },
      "execution_count": 2,
      "outputs": []
    },
    {
      "cell_type": "code",
      "source": [
        "base.shape"
      ],
      "metadata": {
        "colab": {
          "base_uri": "https://localhost:8080/"
        },
        "id": "tfyfS-1ygxVX",
        "outputId": "33dc286e-a493-4917-f9ac-1ac0f9a6edfa"
      },
      "execution_count": 3,
      "outputs": [
        {
          "output_type": "execute_result",
          "data": {
            "text/plain": [
              "(8950, 18)"
            ]
          },
          "metadata": {},
          "execution_count": 3
        }
      ]
    },
    {
      "cell_type": "code",
      "source": [
        "base.head()"
      ],
      "metadata": {
        "colab": {
          "base_uri": "https://localhost:8080/",
          "height": 270
        },
        "id": "mB_81h-khDUO",
        "outputId": "27790e6d-c329-44a8-86f6-9c1374e2c9f7"
      },
      "execution_count": 4,
      "outputs": [
        {
          "output_type": "execute_result",
          "data": {
            "text/plain": [
              "  CUST_ID      BALANCE  BALANCE_FREQUENCY  PURCHASES  ONEOFF_PURCHASES  \\\n",
              "0  C10001    40.900749           0.818182      95.40              0.00   \n",
              "1  C10002  3202.467416           0.909091       0.00              0.00   \n",
              "2  C10003  2495.148862           1.000000     773.17            773.17   \n",
              "3  C10004  1666.670542           0.636364    1499.00           1499.00   \n",
              "4  C10005   817.714335           1.000000      16.00             16.00   \n",
              "\n",
              "   INSTALLMENTS_PURCHASES  CASH_ADVANCE  PURCHASES_FREQUENCY  \\\n",
              "0                    95.4      0.000000             0.166667   \n",
              "1                     0.0   6442.945483             0.000000   \n",
              "2                     0.0      0.000000             1.000000   \n",
              "3                     0.0    205.788017             0.083333   \n",
              "4                     0.0      0.000000             0.083333   \n",
              "\n",
              "   ONEOFF_PURCHASES_FREQUENCY  PURCHASES_INSTALLMENTS_FREQUENCY  \\\n",
              "0                    0.000000                          0.083333   \n",
              "1                    0.000000                          0.000000   \n",
              "2                    1.000000                          0.000000   \n",
              "3                    0.083333                          0.000000   \n",
              "4                    0.083333                          0.000000   \n",
              "\n",
              "   CASH_ADVANCE_FREQUENCY  CASH_ADVANCE_TRX  PURCHASES_TRX  CREDIT_LIMIT  \\\n",
              "0                0.000000                 0              2        1000.0   \n",
              "1                0.250000                 4              0        7000.0   \n",
              "2                0.000000                 0             12        7500.0   \n",
              "3                0.083333                 1              1        7500.0   \n",
              "4                0.000000                 0              1        1200.0   \n",
              "\n",
              "      PAYMENTS  MINIMUM_PAYMENTS  PRC_FULL_PAYMENT  TENURE  \n",
              "0   201.802084        139.509787          0.000000      12  \n",
              "1  4103.032597       1072.340217          0.222222      12  \n",
              "2   622.066742        627.284787          0.000000      12  \n",
              "3     0.000000               NaN          0.000000      12  \n",
              "4   678.334763        244.791237          0.000000      12  "
            ],
            "text/html": [
              "\n",
              "  <div id=\"df-23952964-90b6-416c-9008-74b0f826f303\">\n",
              "    <div class=\"colab-df-container\">\n",
              "      <div>\n",
              "<style scoped>\n",
              "    .dataframe tbody tr th:only-of-type {\n",
              "        vertical-align: middle;\n",
              "    }\n",
              "\n",
              "    .dataframe tbody tr th {\n",
              "        vertical-align: top;\n",
              "    }\n",
              "\n",
              "    .dataframe thead th {\n",
              "        text-align: right;\n",
              "    }\n",
              "</style>\n",
              "<table border=\"1\" class=\"dataframe\">\n",
              "  <thead>\n",
              "    <tr style=\"text-align: right;\">\n",
              "      <th></th>\n",
              "      <th>CUST_ID</th>\n",
              "      <th>BALANCE</th>\n",
              "      <th>BALANCE_FREQUENCY</th>\n",
              "      <th>PURCHASES</th>\n",
              "      <th>ONEOFF_PURCHASES</th>\n",
              "      <th>INSTALLMENTS_PURCHASES</th>\n",
              "      <th>CASH_ADVANCE</th>\n",
              "      <th>PURCHASES_FREQUENCY</th>\n",
              "      <th>ONEOFF_PURCHASES_FREQUENCY</th>\n",
              "      <th>PURCHASES_INSTALLMENTS_FREQUENCY</th>\n",
              "      <th>CASH_ADVANCE_FREQUENCY</th>\n",
              "      <th>CASH_ADVANCE_TRX</th>\n",
              "      <th>PURCHASES_TRX</th>\n",
              "      <th>CREDIT_LIMIT</th>\n",
              "      <th>PAYMENTS</th>\n",
              "      <th>MINIMUM_PAYMENTS</th>\n",
              "      <th>PRC_FULL_PAYMENT</th>\n",
              "      <th>TENURE</th>\n",
              "    </tr>\n",
              "  </thead>\n",
              "  <tbody>\n",
              "    <tr>\n",
              "      <th>0</th>\n",
              "      <td>C10001</td>\n",
              "      <td>40.900749</td>\n",
              "      <td>0.818182</td>\n",
              "      <td>95.40</td>\n",
              "      <td>0.00</td>\n",
              "      <td>95.4</td>\n",
              "      <td>0.000000</td>\n",
              "      <td>0.166667</td>\n",
              "      <td>0.000000</td>\n",
              "      <td>0.083333</td>\n",
              "      <td>0.000000</td>\n",
              "      <td>0</td>\n",
              "      <td>2</td>\n",
              "      <td>1000.0</td>\n",
              "      <td>201.802084</td>\n",
              "      <td>139.509787</td>\n",
              "      <td>0.000000</td>\n",
              "      <td>12</td>\n",
              "    </tr>\n",
              "    <tr>\n",
              "      <th>1</th>\n",
              "      <td>C10002</td>\n",
              "      <td>3202.467416</td>\n",
              "      <td>0.909091</td>\n",
              "      <td>0.00</td>\n",
              "      <td>0.00</td>\n",
              "      <td>0.0</td>\n",
              "      <td>6442.945483</td>\n",
              "      <td>0.000000</td>\n",
              "      <td>0.000000</td>\n",
              "      <td>0.000000</td>\n",
              "      <td>0.250000</td>\n",
              "      <td>4</td>\n",
              "      <td>0</td>\n",
              "      <td>7000.0</td>\n",
              "      <td>4103.032597</td>\n",
              "      <td>1072.340217</td>\n",
              "      <td>0.222222</td>\n",
              "      <td>12</td>\n",
              "    </tr>\n",
              "    <tr>\n",
              "      <th>2</th>\n",
              "      <td>C10003</td>\n",
              "      <td>2495.148862</td>\n",
              "      <td>1.000000</td>\n",
              "      <td>773.17</td>\n",
              "      <td>773.17</td>\n",
              "      <td>0.0</td>\n",
              "      <td>0.000000</td>\n",
              "      <td>1.000000</td>\n",
              "      <td>1.000000</td>\n",
              "      <td>0.000000</td>\n",
              "      <td>0.000000</td>\n",
              "      <td>0</td>\n",
              "      <td>12</td>\n",
              "      <td>7500.0</td>\n",
              "      <td>622.066742</td>\n",
              "      <td>627.284787</td>\n",
              "      <td>0.000000</td>\n",
              "      <td>12</td>\n",
              "    </tr>\n",
              "    <tr>\n",
              "      <th>3</th>\n",
              "      <td>C10004</td>\n",
              "      <td>1666.670542</td>\n",
              "      <td>0.636364</td>\n",
              "      <td>1499.00</td>\n",
              "      <td>1499.00</td>\n",
              "      <td>0.0</td>\n",
              "      <td>205.788017</td>\n",
              "      <td>0.083333</td>\n",
              "      <td>0.083333</td>\n",
              "      <td>0.000000</td>\n",
              "      <td>0.083333</td>\n",
              "      <td>1</td>\n",
              "      <td>1</td>\n",
              "      <td>7500.0</td>\n",
              "      <td>0.000000</td>\n",
              "      <td>NaN</td>\n",
              "      <td>0.000000</td>\n",
              "      <td>12</td>\n",
              "    </tr>\n",
              "    <tr>\n",
              "      <th>4</th>\n",
              "      <td>C10005</td>\n",
              "      <td>817.714335</td>\n",
              "      <td>1.000000</td>\n",
              "      <td>16.00</td>\n",
              "      <td>16.00</td>\n",
              "      <td>0.0</td>\n",
              "      <td>0.000000</td>\n",
              "      <td>0.083333</td>\n",
              "      <td>0.083333</td>\n",
              "      <td>0.000000</td>\n",
              "      <td>0.000000</td>\n",
              "      <td>0</td>\n",
              "      <td>1</td>\n",
              "      <td>1200.0</td>\n",
              "      <td>678.334763</td>\n",
              "      <td>244.791237</td>\n",
              "      <td>0.000000</td>\n",
              "      <td>12</td>\n",
              "    </tr>\n",
              "  </tbody>\n",
              "</table>\n",
              "</div>\n",
              "      <button class=\"colab-df-convert\" onclick=\"convertToInteractive('df-23952964-90b6-416c-9008-74b0f826f303')\"\n",
              "              title=\"Convert this dataframe to an interactive table.\"\n",
              "              style=\"display:none;\">\n",
              "        \n",
              "  <svg xmlns=\"http://www.w3.org/2000/svg\" height=\"24px\"viewBox=\"0 0 24 24\"\n",
              "       width=\"24px\">\n",
              "    <path d=\"M0 0h24v24H0V0z\" fill=\"none\"/>\n",
              "    <path d=\"M18.56 5.44l.94 2.06.94-2.06 2.06-.94-2.06-.94-.94-2.06-.94 2.06-2.06.94zm-11 1L8.5 8.5l.94-2.06 2.06-.94-2.06-.94L8.5 2.5l-.94 2.06-2.06.94zm10 10l.94 2.06.94-2.06 2.06-.94-2.06-.94-.94-2.06-.94 2.06-2.06.94z\"/><path d=\"M17.41 7.96l-1.37-1.37c-.4-.4-.92-.59-1.43-.59-.52 0-1.04.2-1.43.59L10.3 9.45l-7.72 7.72c-.78.78-.78 2.05 0 2.83L4 21.41c.39.39.9.59 1.41.59.51 0 1.02-.2 1.41-.59l7.78-7.78 2.81-2.81c.8-.78.8-2.07 0-2.86zM5.41 20L4 18.59l7.72-7.72 1.47 1.35L5.41 20z\"/>\n",
              "  </svg>\n",
              "      </button>\n",
              "      \n",
              "  <style>\n",
              "    .colab-df-container {\n",
              "      display:flex;\n",
              "      flex-wrap:wrap;\n",
              "      gap: 12px;\n",
              "    }\n",
              "\n",
              "    .colab-df-convert {\n",
              "      background-color: #E8F0FE;\n",
              "      border: none;\n",
              "      border-radius: 50%;\n",
              "      cursor: pointer;\n",
              "      display: none;\n",
              "      fill: #1967D2;\n",
              "      height: 32px;\n",
              "      padding: 0 0 0 0;\n",
              "      width: 32px;\n",
              "    }\n",
              "\n",
              "    .colab-df-convert:hover {\n",
              "      background-color: #E2EBFA;\n",
              "      box-shadow: 0px 1px 2px rgba(60, 64, 67, 0.3), 0px 1px 3px 1px rgba(60, 64, 67, 0.15);\n",
              "      fill: #174EA6;\n",
              "    }\n",
              "\n",
              "    [theme=dark] .colab-df-convert {\n",
              "      background-color: #3B4455;\n",
              "      fill: #D2E3FC;\n",
              "    }\n",
              "\n",
              "    [theme=dark] .colab-df-convert:hover {\n",
              "      background-color: #434B5C;\n",
              "      box-shadow: 0px 1px 3px 1px rgba(0, 0, 0, 0.15);\n",
              "      filter: drop-shadow(0px 1px 2px rgba(0, 0, 0, 0.3));\n",
              "      fill: #FFFFFF;\n",
              "    }\n",
              "  </style>\n",
              "\n",
              "      <script>\n",
              "        const buttonEl =\n",
              "          document.querySelector('#df-23952964-90b6-416c-9008-74b0f826f303 button.colab-df-convert');\n",
              "        buttonEl.style.display =\n",
              "          google.colab.kernel.accessAllowed ? 'block' : 'none';\n",
              "\n",
              "        async function convertToInteractive(key) {\n",
              "          const element = document.querySelector('#df-23952964-90b6-416c-9008-74b0f826f303');\n",
              "          const dataTable =\n",
              "            await google.colab.kernel.invokeFunction('convertToInteractive',\n",
              "                                                     [key], {});\n",
              "          if (!dataTable) return;\n",
              "\n",
              "          const docLinkHtml = 'Like what you see? Visit the ' +\n",
              "            '<a target=\"_blank\" href=https://colab.research.google.com/notebooks/data_table.ipynb>data table notebook</a>'\n",
              "            + ' to learn more about interactive tables.';\n",
              "          element.innerHTML = '';\n",
              "          dataTable['output_type'] = 'display_data';\n",
              "          await google.colab.output.renderOutput(dataTable, element);\n",
              "          const docLink = document.createElement('div');\n",
              "          docLink.innerHTML = docLinkHtml;\n",
              "          element.appendChild(docLink);\n",
              "        }\n",
              "      </script>\n",
              "    </div>\n",
              "  </div>\n",
              "  "
            ]
          },
          "metadata": {},
          "execution_count": 4
        }
      ]
    },
    {
      "cell_type": "markdown",
      "source": [
        "Informações sobre as Colunas"
      ],
      "metadata": {
        "id": "3QahC1Wqg1ml"
      }
    },
    {
      "cell_type": "code",
      "source": [
        "base.info()"
      ],
      "metadata": {
        "colab": {
          "base_uri": "https://localhost:8080/"
        },
        "id": "rVYkQXdQg2rG",
        "outputId": "5918e0b7-fb47-438e-bb26-3aa75ea34bf7"
      },
      "execution_count": 5,
      "outputs": [
        {
          "output_type": "stream",
          "name": "stdout",
          "text": [
            "<class 'pandas.core.frame.DataFrame'>\n",
            "RangeIndex: 8950 entries, 0 to 8949\n",
            "Data columns (total 18 columns):\n",
            " #   Column                            Non-Null Count  Dtype  \n",
            "---  ------                            --------------  -----  \n",
            " 0   CUST_ID                           8950 non-null   object \n",
            " 1   BALANCE                           8950 non-null   float64\n",
            " 2   BALANCE_FREQUENCY                 8950 non-null   float64\n",
            " 3   PURCHASES                         8950 non-null   float64\n",
            " 4   ONEOFF_PURCHASES                  8950 non-null   float64\n",
            " 5   INSTALLMENTS_PURCHASES            8950 non-null   float64\n",
            " 6   CASH_ADVANCE                      8950 non-null   float64\n",
            " 7   PURCHASES_FREQUENCY               8950 non-null   float64\n",
            " 8   ONEOFF_PURCHASES_FREQUENCY        8950 non-null   float64\n",
            " 9   PURCHASES_INSTALLMENTS_FREQUENCY  8950 non-null   float64\n",
            " 10  CASH_ADVANCE_FREQUENCY            8950 non-null   float64\n",
            " 11  CASH_ADVANCE_TRX                  8950 non-null   int64  \n",
            " 12  PURCHASES_TRX                     8950 non-null   int64  \n",
            " 13  CREDIT_LIMIT                      8949 non-null   float64\n",
            " 14  PAYMENTS                          8950 non-null   float64\n",
            " 15  MINIMUM_PAYMENTS                  8637 non-null   float64\n",
            " 16  PRC_FULL_PAYMENT                  8950 non-null   float64\n",
            " 17  TENURE                            8950 non-null   int64  \n",
            "dtypes: float64(14), int64(3), object(1)\n",
            "memory usage: 1.2+ MB\n"
          ]
        }
      ]
    },
    {
      "cell_type": "code",
      "source": [
        "base.describe()"
      ],
      "metadata": {
        "colab": {
          "base_uri": "https://localhost:8080/",
          "height": 364
        },
        "id": "cUTfdQh6k0Gr",
        "outputId": "808f046d-d47b-486c-fce3-aa3720568123"
      },
      "execution_count": 6,
      "outputs": [
        {
          "output_type": "execute_result",
          "data": {
            "text/plain": [
              "            BALANCE  BALANCE_FREQUENCY     PURCHASES  ONEOFF_PURCHASES  \\\n",
              "count   8950.000000        8950.000000   8950.000000       8950.000000   \n",
              "mean    1564.474828           0.877271   1003.204834        592.437371   \n",
              "std     2081.531879           0.236904   2136.634782       1659.887917   \n",
              "min        0.000000           0.000000      0.000000          0.000000   \n",
              "25%      128.281915           0.888889     39.635000          0.000000   \n",
              "50%      873.385231           1.000000    361.280000         38.000000   \n",
              "75%     2054.140036           1.000000   1110.130000        577.405000   \n",
              "max    19043.138560           1.000000  49039.570000      40761.250000   \n",
              "\n",
              "       INSTALLMENTS_PURCHASES  CASH_ADVANCE  PURCHASES_FREQUENCY  \\\n",
              "count             8950.000000   8950.000000          8950.000000   \n",
              "mean               411.067645    978.871112             0.490351   \n",
              "std                904.338115   2097.163877             0.401371   \n",
              "min                  0.000000      0.000000             0.000000   \n",
              "25%                  0.000000      0.000000             0.083333   \n",
              "50%                 89.000000      0.000000             0.500000   \n",
              "75%                468.637500   1113.821139             0.916667   \n",
              "max              22500.000000  47137.211760             1.000000   \n",
              "\n",
              "       ONEOFF_PURCHASES_FREQUENCY  PURCHASES_INSTALLMENTS_FREQUENCY  \\\n",
              "count                 8950.000000                       8950.000000   \n",
              "mean                     0.202458                          0.364437   \n",
              "std                      0.298336                          0.397448   \n",
              "min                      0.000000                          0.000000   \n",
              "25%                      0.000000                          0.000000   \n",
              "50%                      0.083333                          0.166667   \n",
              "75%                      0.300000                          0.750000   \n",
              "max                      1.000000                          1.000000   \n",
              "\n",
              "       CASH_ADVANCE_FREQUENCY  CASH_ADVANCE_TRX  PURCHASES_TRX  CREDIT_LIMIT  \\\n",
              "count             8950.000000       8950.000000    8950.000000   8949.000000   \n",
              "mean                 0.135144          3.248827      14.709832   4494.449450   \n",
              "std                  0.200121          6.824647      24.857649   3638.815725   \n",
              "min                  0.000000          0.000000       0.000000     50.000000   \n",
              "25%                  0.000000          0.000000       1.000000   1600.000000   \n",
              "50%                  0.000000          0.000000       7.000000   3000.000000   \n",
              "75%                  0.222222          4.000000      17.000000   6500.000000   \n",
              "max                  1.500000        123.000000     358.000000  30000.000000   \n",
              "\n",
              "           PAYMENTS  MINIMUM_PAYMENTS  PRC_FULL_PAYMENT       TENURE  \n",
              "count   8950.000000       8637.000000       8950.000000  8950.000000  \n",
              "mean    1733.143852        864.206542          0.153715    11.517318  \n",
              "std     2895.063757       2372.446607          0.292499     1.338331  \n",
              "min        0.000000          0.019163          0.000000     6.000000  \n",
              "25%      383.276166        169.123707          0.000000    12.000000  \n",
              "50%      856.901546        312.343947          0.000000    12.000000  \n",
              "75%     1901.134317        825.485459          0.142857    12.000000  \n",
              "max    50721.483360      76406.207520          1.000000    12.000000  "
            ],
            "text/html": [
              "\n",
              "  <div id=\"df-f98053b1-5139-480b-bab7-b44c7c85fc0d\">\n",
              "    <div class=\"colab-df-container\">\n",
              "      <div>\n",
              "<style scoped>\n",
              "    .dataframe tbody tr th:only-of-type {\n",
              "        vertical-align: middle;\n",
              "    }\n",
              "\n",
              "    .dataframe tbody tr th {\n",
              "        vertical-align: top;\n",
              "    }\n",
              "\n",
              "    .dataframe thead th {\n",
              "        text-align: right;\n",
              "    }\n",
              "</style>\n",
              "<table border=\"1\" class=\"dataframe\">\n",
              "  <thead>\n",
              "    <tr style=\"text-align: right;\">\n",
              "      <th></th>\n",
              "      <th>BALANCE</th>\n",
              "      <th>BALANCE_FREQUENCY</th>\n",
              "      <th>PURCHASES</th>\n",
              "      <th>ONEOFF_PURCHASES</th>\n",
              "      <th>INSTALLMENTS_PURCHASES</th>\n",
              "      <th>CASH_ADVANCE</th>\n",
              "      <th>PURCHASES_FREQUENCY</th>\n",
              "      <th>ONEOFF_PURCHASES_FREQUENCY</th>\n",
              "      <th>PURCHASES_INSTALLMENTS_FREQUENCY</th>\n",
              "      <th>CASH_ADVANCE_FREQUENCY</th>\n",
              "      <th>CASH_ADVANCE_TRX</th>\n",
              "      <th>PURCHASES_TRX</th>\n",
              "      <th>CREDIT_LIMIT</th>\n",
              "      <th>PAYMENTS</th>\n",
              "      <th>MINIMUM_PAYMENTS</th>\n",
              "      <th>PRC_FULL_PAYMENT</th>\n",
              "      <th>TENURE</th>\n",
              "    </tr>\n",
              "  </thead>\n",
              "  <tbody>\n",
              "    <tr>\n",
              "      <th>count</th>\n",
              "      <td>8950.000000</td>\n",
              "      <td>8950.000000</td>\n",
              "      <td>8950.000000</td>\n",
              "      <td>8950.000000</td>\n",
              "      <td>8950.000000</td>\n",
              "      <td>8950.000000</td>\n",
              "      <td>8950.000000</td>\n",
              "      <td>8950.000000</td>\n",
              "      <td>8950.000000</td>\n",
              "      <td>8950.000000</td>\n",
              "      <td>8950.000000</td>\n",
              "      <td>8950.000000</td>\n",
              "      <td>8949.000000</td>\n",
              "      <td>8950.000000</td>\n",
              "      <td>8637.000000</td>\n",
              "      <td>8950.000000</td>\n",
              "      <td>8950.000000</td>\n",
              "    </tr>\n",
              "    <tr>\n",
              "      <th>mean</th>\n",
              "      <td>1564.474828</td>\n",
              "      <td>0.877271</td>\n",
              "      <td>1003.204834</td>\n",
              "      <td>592.437371</td>\n",
              "      <td>411.067645</td>\n",
              "      <td>978.871112</td>\n",
              "      <td>0.490351</td>\n",
              "      <td>0.202458</td>\n",
              "      <td>0.364437</td>\n",
              "      <td>0.135144</td>\n",
              "      <td>3.248827</td>\n",
              "      <td>14.709832</td>\n",
              "      <td>4494.449450</td>\n",
              "      <td>1733.143852</td>\n",
              "      <td>864.206542</td>\n",
              "      <td>0.153715</td>\n",
              "      <td>11.517318</td>\n",
              "    </tr>\n",
              "    <tr>\n",
              "      <th>std</th>\n",
              "      <td>2081.531879</td>\n",
              "      <td>0.236904</td>\n",
              "      <td>2136.634782</td>\n",
              "      <td>1659.887917</td>\n",
              "      <td>904.338115</td>\n",
              "      <td>2097.163877</td>\n",
              "      <td>0.401371</td>\n",
              "      <td>0.298336</td>\n",
              "      <td>0.397448</td>\n",
              "      <td>0.200121</td>\n",
              "      <td>6.824647</td>\n",
              "      <td>24.857649</td>\n",
              "      <td>3638.815725</td>\n",
              "      <td>2895.063757</td>\n",
              "      <td>2372.446607</td>\n",
              "      <td>0.292499</td>\n",
              "      <td>1.338331</td>\n",
              "    </tr>\n",
              "    <tr>\n",
              "      <th>min</th>\n",
              "      <td>0.000000</td>\n",
              "      <td>0.000000</td>\n",
              "      <td>0.000000</td>\n",
              "      <td>0.000000</td>\n",
              "      <td>0.000000</td>\n",
              "      <td>0.000000</td>\n",
              "      <td>0.000000</td>\n",
              "      <td>0.000000</td>\n",
              "      <td>0.000000</td>\n",
              "      <td>0.000000</td>\n",
              "      <td>0.000000</td>\n",
              "      <td>0.000000</td>\n",
              "      <td>50.000000</td>\n",
              "      <td>0.000000</td>\n",
              "      <td>0.019163</td>\n",
              "      <td>0.000000</td>\n",
              "      <td>6.000000</td>\n",
              "    </tr>\n",
              "    <tr>\n",
              "      <th>25%</th>\n",
              "      <td>128.281915</td>\n",
              "      <td>0.888889</td>\n",
              "      <td>39.635000</td>\n",
              "      <td>0.000000</td>\n",
              "      <td>0.000000</td>\n",
              "      <td>0.000000</td>\n",
              "      <td>0.083333</td>\n",
              "      <td>0.000000</td>\n",
              "      <td>0.000000</td>\n",
              "      <td>0.000000</td>\n",
              "      <td>0.000000</td>\n",
              "      <td>1.000000</td>\n",
              "      <td>1600.000000</td>\n",
              "      <td>383.276166</td>\n",
              "      <td>169.123707</td>\n",
              "      <td>0.000000</td>\n",
              "      <td>12.000000</td>\n",
              "    </tr>\n",
              "    <tr>\n",
              "      <th>50%</th>\n",
              "      <td>873.385231</td>\n",
              "      <td>1.000000</td>\n",
              "      <td>361.280000</td>\n",
              "      <td>38.000000</td>\n",
              "      <td>89.000000</td>\n",
              "      <td>0.000000</td>\n",
              "      <td>0.500000</td>\n",
              "      <td>0.083333</td>\n",
              "      <td>0.166667</td>\n",
              "      <td>0.000000</td>\n",
              "      <td>0.000000</td>\n",
              "      <td>7.000000</td>\n",
              "      <td>3000.000000</td>\n",
              "      <td>856.901546</td>\n",
              "      <td>312.343947</td>\n",
              "      <td>0.000000</td>\n",
              "      <td>12.000000</td>\n",
              "    </tr>\n",
              "    <tr>\n",
              "      <th>75%</th>\n",
              "      <td>2054.140036</td>\n",
              "      <td>1.000000</td>\n",
              "      <td>1110.130000</td>\n",
              "      <td>577.405000</td>\n",
              "      <td>468.637500</td>\n",
              "      <td>1113.821139</td>\n",
              "      <td>0.916667</td>\n",
              "      <td>0.300000</td>\n",
              "      <td>0.750000</td>\n",
              "      <td>0.222222</td>\n",
              "      <td>4.000000</td>\n",
              "      <td>17.000000</td>\n",
              "      <td>6500.000000</td>\n",
              "      <td>1901.134317</td>\n",
              "      <td>825.485459</td>\n",
              "      <td>0.142857</td>\n",
              "      <td>12.000000</td>\n",
              "    </tr>\n",
              "    <tr>\n",
              "      <th>max</th>\n",
              "      <td>19043.138560</td>\n",
              "      <td>1.000000</td>\n",
              "      <td>49039.570000</td>\n",
              "      <td>40761.250000</td>\n",
              "      <td>22500.000000</td>\n",
              "      <td>47137.211760</td>\n",
              "      <td>1.000000</td>\n",
              "      <td>1.000000</td>\n",
              "      <td>1.000000</td>\n",
              "      <td>1.500000</td>\n",
              "      <td>123.000000</td>\n",
              "      <td>358.000000</td>\n",
              "      <td>30000.000000</td>\n",
              "      <td>50721.483360</td>\n",
              "      <td>76406.207520</td>\n",
              "      <td>1.000000</td>\n",
              "      <td>12.000000</td>\n",
              "    </tr>\n",
              "  </tbody>\n",
              "</table>\n",
              "</div>\n",
              "      <button class=\"colab-df-convert\" onclick=\"convertToInteractive('df-f98053b1-5139-480b-bab7-b44c7c85fc0d')\"\n",
              "              title=\"Convert this dataframe to an interactive table.\"\n",
              "              style=\"display:none;\">\n",
              "        \n",
              "  <svg xmlns=\"http://www.w3.org/2000/svg\" height=\"24px\"viewBox=\"0 0 24 24\"\n",
              "       width=\"24px\">\n",
              "    <path d=\"M0 0h24v24H0V0z\" fill=\"none\"/>\n",
              "    <path d=\"M18.56 5.44l.94 2.06.94-2.06 2.06-.94-2.06-.94-.94-2.06-.94 2.06-2.06.94zm-11 1L8.5 8.5l.94-2.06 2.06-.94-2.06-.94L8.5 2.5l-.94 2.06-2.06.94zm10 10l.94 2.06.94-2.06 2.06-.94-2.06-.94-.94-2.06-.94 2.06-2.06.94z\"/><path d=\"M17.41 7.96l-1.37-1.37c-.4-.4-.92-.59-1.43-.59-.52 0-1.04.2-1.43.59L10.3 9.45l-7.72 7.72c-.78.78-.78 2.05 0 2.83L4 21.41c.39.39.9.59 1.41.59.51 0 1.02-.2 1.41-.59l7.78-7.78 2.81-2.81c.8-.78.8-2.07 0-2.86zM5.41 20L4 18.59l7.72-7.72 1.47 1.35L5.41 20z\"/>\n",
              "  </svg>\n",
              "      </button>\n",
              "      \n",
              "  <style>\n",
              "    .colab-df-container {\n",
              "      display:flex;\n",
              "      flex-wrap:wrap;\n",
              "      gap: 12px;\n",
              "    }\n",
              "\n",
              "    .colab-df-convert {\n",
              "      background-color: #E8F0FE;\n",
              "      border: none;\n",
              "      border-radius: 50%;\n",
              "      cursor: pointer;\n",
              "      display: none;\n",
              "      fill: #1967D2;\n",
              "      height: 32px;\n",
              "      padding: 0 0 0 0;\n",
              "      width: 32px;\n",
              "    }\n",
              "\n",
              "    .colab-df-convert:hover {\n",
              "      background-color: #E2EBFA;\n",
              "      box-shadow: 0px 1px 2px rgba(60, 64, 67, 0.3), 0px 1px 3px 1px rgba(60, 64, 67, 0.15);\n",
              "      fill: #174EA6;\n",
              "    }\n",
              "\n",
              "    [theme=dark] .colab-df-convert {\n",
              "      background-color: #3B4455;\n",
              "      fill: #D2E3FC;\n",
              "    }\n",
              "\n",
              "    [theme=dark] .colab-df-convert:hover {\n",
              "      background-color: #434B5C;\n",
              "      box-shadow: 0px 1px 3px 1px rgba(0, 0, 0, 0.15);\n",
              "      filter: drop-shadow(0px 1px 2px rgba(0, 0, 0, 0.3));\n",
              "      fill: #FFFFFF;\n",
              "    }\n",
              "  </style>\n",
              "\n",
              "      <script>\n",
              "        const buttonEl =\n",
              "          document.querySelector('#df-f98053b1-5139-480b-bab7-b44c7c85fc0d button.colab-df-convert');\n",
              "        buttonEl.style.display =\n",
              "          google.colab.kernel.accessAllowed ? 'block' : 'none';\n",
              "\n",
              "        async function convertToInteractive(key) {\n",
              "          const element = document.querySelector('#df-f98053b1-5139-480b-bab7-b44c7c85fc0d');\n",
              "          const dataTable =\n",
              "            await google.colab.kernel.invokeFunction('convertToInteractive',\n",
              "                                                     [key], {});\n",
              "          if (!dataTable) return;\n",
              "\n",
              "          const docLinkHtml = 'Like what you see? Visit the ' +\n",
              "            '<a target=\"_blank\" href=https://colab.research.google.com/notebooks/data_table.ipynb>data table notebook</a>'\n",
              "            + ' to learn more about interactive tables.';\n",
              "          element.innerHTML = '';\n",
              "          dataTable['output_type'] = 'display_data';\n",
              "          await google.colab.output.renderOutput(dataTable, element);\n",
              "          const docLink = document.createElement('div');\n",
              "          docLink.innerHTML = docLinkHtml;\n",
              "          element.appendChild(docLink);\n",
              "        }\n",
              "      </script>\n",
              "    </div>\n",
              "  </div>\n",
              "  "
            ]
          },
          "metadata": {},
          "execution_count": 6
        }
      ]
    },
    {
      "cell_type": "markdown",
      "source": [
        "## **PRÉ-PROCESSAMENTO DOS DADOS**"
      ],
      "metadata": {
        "id": "AWBfdL7_lMsA"
      }
    },
    {
      "cell_type": "markdown",
      "source": [
        "**Verificando Valores Nulos e N/A**"
      ],
      "metadata": {
        "id": "OB9QhBV_lcHg"
      }
    },
    {
      "cell_type": "code",
      "source": [
        "# visualizando Valores Nulos se existirem irão aparecer como traços brancos\n",
        "sns.heatmap(base.isnull());"
      ],
      "metadata": {
        "colab": {
          "base_uri": "https://localhost:8080/",
          "height": 465
        },
        "id": "Iu0DmWH6lN4w",
        "outputId": "00178d3d-8fdf-458c-823d-b55ad8e98561"
      },
      "execution_count": 7,
      "outputs": [
        {
          "output_type": "display_data",
          "data": {
            "text/plain": [
              "<Figure size 432x288 with 2 Axes>"
            ],
            "image/png": "[encoded data removed]"
          },
          "metadata": {
            "needs_background": "light"
          }
        }
      ]
    },
    {
      "cell_type": "code",
      "source": [
        "base.isnull().sum()"
      ],
      "metadata": {
        "colab": {
          "base_uri": "https://localhost:8080/"
        },
        "id": "dOxJZplHlgN3",
        "outputId": "0955b2ef-2381-4e5c-d701-13dfdceb886c"
      },
      "execution_count": 8,
      "outputs": [
        {
          "output_type": "execute_result",
          "data": {
            "text/plain": [
              "CUST_ID                               0\n",
              "BALANCE                               0\n",
              "BALANCE_FREQUENCY                     0\n",
              "PURCHASES                             0\n",
              "ONEOFF_PURCHASES                      0\n",
              "INSTALLMENTS_PURCHASES                0\n",
              "CASH_ADVANCE                          0\n",
              "PURCHASES_FREQUENCY                   0\n",
              "ONEOFF_PURCHASES_FREQUENCY            0\n",
              "PURCHASES_INSTALLMENTS_FREQUENCY      0\n",
              "CASH_ADVANCE_FREQUENCY                0\n",
              "CASH_ADVANCE_TRX                      0\n",
              "PURCHASES_TRX                         0\n",
              "CREDIT_LIMIT                          1\n",
              "PAYMENTS                              0\n",
              "MINIMUM_PAYMENTS                    313\n",
              "PRC_FULL_PAYMENT                      0\n",
              "TENURE                                0\n",
              "dtype: int64"
            ]
          },
          "metadata": {},
          "execution_count": 8
        }
      ]
    },
    {
      "cell_type": "markdown",
      "source": [
        "Existem 313 Registros nulos na base de dados na categoria Pagamento Mínimo e 1 Registro na categoria Limite de Crédito, a estratégia escolhida para substituição desses valores será utlizar a média"
      ],
      "metadata": {
        "id": "t4gXV7_3oljo"
      }
    },
    {
      "cell_type": "code",
      "source": [
        "# Verificando a média do Pagamento Mínimo\n",
        "base['MINIMUM_PAYMENTS'].mean()"
      ],
      "metadata": {
        "colab": {
          "base_uri": "https://localhost:8080/"
        },
        "id": "fbIHcthpo_fQ",
        "outputId": "6888a9dc-4b17-43d9-f978-32733b6b1fb2"
      },
      "execution_count": 9,
      "outputs": [
        {
          "output_type": "execute_result",
          "data": {
            "text/plain": [
              "864.2065423050816"
            ]
          },
          "metadata": {},
          "execution_count": 9
        }
      ]
    },
    {
      "cell_type": "code",
      "source": [
        "# Substituindo\n",
        "base.loc[(base['MINIMUM_PAYMENTS'].isnull() == True), 'MINIMUM_PAYMENTS'] = base['MINIMUM_PAYMENTS'].mean()"
      ],
      "metadata": {
        "id": "jJpEje4UpJGm"
      },
      "execution_count": 10,
      "outputs": []
    },
    {
      "cell_type": "code",
      "source": [
        "# Verificando a média do Limite de Crédito\n",
        "base['CREDIT_LIMIT'].mean()"
      ],
      "metadata": {
        "colab": {
          "base_uri": "https://localhost:8080/"
        },
        "id": "RW8sfnv0pQ_0",
        "outputId": "6ea226b6-3453-420a-ae51-7576c423133b"
      },
      "execution_count": 11,
      "outputs": [
        {
          "output_type": "execute_result",
          "data": {
            "text/plain": [
              "4494.449450364621"
            ]
          },
          "metadata": {},
          "execution_count": 11
        }
      ]
    },
    {
      "cell_type": "code",
      "source": [
        "base.loc[(base['CREDIT_LIMIT'].isnull() == True), 'CREDIT_LIMIT'] = base['CREDIT_LIMIT'].mean()"
      ],
      "metadata": {
        "id": "L-mtXAIkpapd"
      },
      "execution_count": 12,
      "outputs": []
    },
    {
      "cell_type": "code",
      "source": [
        "base.isnull().sum()"
      ],
      "metadata": {
        "colab": {
          "base_uri": "https://localhost:8080/"
        },
        "id": "O9WVSztFpjUj",
        "outputId": "cf34234b-d7f9-4655-a69b-a3a2b0f66f56"
      },
      "execution_count": 13,
      "outputs": [
        {
          "output_type": "execute_result",
          "data": {
            "text/plain": [
              "CUST_ID                             0\n",
              "BALANCE                             0\n",
              "BALANCE_FREQUENCY                   0\n",
              "PURCHASES                           0\n",
              "ONEOFF_PURCHASES                    0\n",
              "INSTALLMENTS_PURCHASES              0\n",
              "CASH_ADVANCE                        0\n",
              "PURCHASES_FREQUENCY                 0\n",
              "ONEOFF_PURCHASES_FREQUENCY          0\n",
              "PURCHASES_INSTALLMENTS_FREQUENCY    0\n",
              "CASH_ADVANCE_FREQUENCY              0\n",
              "CASH_ADVANCE_TRX                    0\n",
              "PURCHASES_TRX                       0\n",
              "CREDIT_LIMIT                        0\n",
              "PAYMENTS                            0\n",
              "MINIMUM_PAYMENTS                    0\n",
              "PRC_FULL_PAYMENT                    0\n",
              "TENURE                              0\n",
              "dtype: int64"
            ]
          },
          "metadata": {},
          "execution_count": 13
        }
      ]
    },
    {
      "cell_type": "code",
      "source": [
        "sns.heatmap(base.isnull());"
      ],
      "metadata": {
        "colab": {
          "base_uri": "https://localhost:8080/",
          "height": 465
        },
        "id": "Zp_tUXEmpo9r",
        "outputId": "4e897987-682c-4ad7-979f-546c8750f4b0"
      },
      "execution_count": 14,
      "outputs": [
        {
          "output_type": "display_data",
          "data": {
            "text/plain": [
              "<Figure size 432x288 with 2 Axes>"
            ],
            "image/png": "[encoded data removed]"
          },
          "metadata": {
            "needs_background": "light"
          }
        }
      ]
    },
    {
      "cell_type": "markdown",
      "source": [
        "**Verificando Valores Duplicados**"
      ],
      "metadata": {
        "id": "45bRYUJ5lwnv"
      }
    },
    {
      "cell_type": "code",
      "source": [
        "base.duplicated().sum()"
      ],
      "metadata": {
        "colab": {
          "base_uri": "https://localhost:8080/"
        },
        "id": "wS4gjh09lz7n",
        "outputId": "baa6ddc3-604a-4740-83ca-e4e2940dc055"
      },
      "execution_count": 15,
      "outputs": [
        {
          "output_type": "execute_result",
          "data": {
            "text/plain": [
              "0"
            ]
          },
          "metadata": {},
          "execution_count": 15
        }
      ]
    },
    {
      "cell_type": "code",
      "source": [
        "# Removendo a coluna id\n",
        "base.drop('CUST_ID', axis = 1, inplace = True)"
      ],
      "metadata": {
        "id": "BctC5tYkl6i3"
      },
      "execution_count": 16,
      "outputs": []
    },
    {
      "cell_type": "code",
      "source": [
        "base.head()"
      ],
      "metadata": {
        "colab": {
          "base_uri": "https://localhost:8080/",
          "height": 270
        },
        "id": "6OnOg1PGmWcX",
        "outputId": "84bfa24f-4b06-4296-ca43-f098d849fc70"
      },
      "execution_count": 17,
      "outputs": [
        {
          "output_type": "execute_result",
          "data": {
            "text/plain": [
              "       BALANCE  BALANCE_FREQUENCY  PURCHASES  ONEOFF_PURCHASES  \\\n",
              "0    40.900749           0.818182      95.40              0.00   \n",
              "1  3202.467416           0.909091       0.00              0.00   \n",
              "2  2495.148862           1.000000     773.17            773.17   \n",
              "3  1666.670542           0.636364    1499.00           1499.00   \n",
              "4   817.714335           1.000000      16.00             16.00   \n",
              "\n",
              "   INSTALLMENTS_PURCHASES  CASH_ADVANCE  PURCHASES_FREQUENCY  \\\n",
              "0                    95.4      0.000000             0.166667   \n",
              "1                     0.0   6442.945483             0.000000   \n",
              "2                     0.0      0.000000             1.000000   \n",
              "3                     0.0    205.788017             0.083333   \n",
              "4                     0.0      0.000000             0.083333   \n",
              "\n",
              "   ONEOFF_PURCHASES_FREQUENCY  PURCHASES_INSTALLMENTS_FREQUENCY  \\\n",
              "0                    0.000000                          0.083333   \n",
              "1                    0.000000                          0.000000   \n",
              "2                    1.000000                          0.000000   \n",
              "3                    0.083333                          0.000000   \n",
              "4                    0.083333                          0.000000   \n",
              "\n",
              "   CASH_ADVANCE_FREQUENCY  CASH_ADVANCE_TRX  PURCHASES_TRX  CREDIT_LIMIT  \\\n",
              "0                0.000000                 0              2        1000.0   \n",
              "1                0.250000                 4              0        7000.0   \n",
              "2                0.000000                 0             12        7500.0   \n",
              "3                0.083333                 1              1        7500.0   \n",
              "4                0.000000                 0              1        1200.0   \n",
              "\n",
              "      PAYMENTS  MINIMUM_PAYMENTS  PRC_FULL_PAYMENT  TENURE  \n",
              "0   201.802084        139.509787          0.000000      12  \n",
              "1  4103.032597       1072.340217          0.222222      12  \n",
              "2   622.066742        627.284787          0.000000      12  \n",
              "3     0.000000        864.206542          0.000000      12  \n",
              "4   678.334763        244.791237          0.000000      12  "
            ],
            "text/html": [
              "\n",
              "  <div id=\"df-18b3a375-35d0-4503-beac-585c944bd016\">\n",
              "    <div class=\"colab-df-container\">\n",
              "      <div>\n",
              "<style scoped>\n",
              "    .dataframe tbody tr th:only-of-type {\n",
              "        vertical-align: middle;\n",
              "    }\n",
              "\n",
              "    .dataframe tbody tr th {\n",
              "        vertical-align: top;\n",
              "    }\n",
              "\n",
              "    .dataframe thead th {\n",
              "        text-align: right;\n",
              "    }\n",
              "</style>\n",
              "<table border=\"1\" class=\"dataframe\">\n",
              "  <thead>\n",
              "    <tr style=\"text-align: right;\">\n",
              "      <th></th>\n",
              "      <th>BALANCE</th>\n",
              "      <th>BALANCE_FREQUENCY</th>\n",
              "      <th>PURCHASES</th>\n",
              "      <th>ONEOFF_PURCHASES</th>\n",
              "      <th>INSTALLMENTS_PURCHASES</th>\n",
              "      <th>CASH_ADVANCE</th>\n",
              "      <th>PURCHASES_FREQUENCY</th>\n",
              "      <th>ONEOFF_PURCHASES_FREQUENCY</th>\n",
              "      <th>PURCHASES_INSTALLMENTS_FREQUENCY</th>\n",
              "      <th>CASH_ADVANCE_FREQUENCY</th>\n",
              "      <th>CASH_ADVANCE_TRX</th>\n",
              "      <th>PURCHASES_TRX</th>\n",
              "      <th>CREDIT_LIMIT</th>\n",
              "      <th>PAYMENTS</th>\n",
              "      <th>MINIMUM_PAYMENTS</th>\n",
              "      <th>PRC_FULL_PAYMENT</th>\n",
              "      <th>TENURE</th>\n",
              "    </tr>\n",
              "  </thead>\n",
              "  <tbody>\n",
              "    <tr>\n",
              "      <th>0</th>\n",
              "      <td>40.900749</td>\n",
              "      <td>0.818182</td>\n",
              "      <td>95.40</td>\n",
              "      <td>0.00</td>\n",
              "      <td>95.4</td>\n",
              "      <td>0.000000</td>\n",
              "      <td>0.166667</td>\n",
              "      <td>0.000000</td>\n",
              "      <td>0.083333</td>\n",
              "      <td>0.000000</td>\n",
              "      <td>0</td>\n",
              "      <td>2</td>\n",
              "      <td>1000.0</td>\n",
              "      <td>201.802084</td>\n",
              "      <td>139.509787</td>\n",
              "      <td>0.000000</td>\n",
              "      <td>12</td>\n",
              "    </tr>\n",
              "    <tr>\n",
              "      <th>1</th>\n",
              "      <td>3202.467416</td>\n",
              "      <td>0.909091</td>\n",
              "      <td>0.00</td>\n",
              "      <td>0.00</td>\n",
              "      <td>0.0</td>\n",
              "      <td>6442.945483</td>\n",
              "      <td>0.000000</td>\n",
              "      <td>0.000000</td>\n",
              "      <td>0.000000</td>\n",
              "      <td>0.250000</td>\n",
              "      <td>4</td>\n",
              "      <td>0</td>\n",
              "      <td>7000.0</td>\n",
              "      <td>4103.032597</td>\n",
              "      <td>1072.340217</td>\n",
              "      <td>0.222222</td>\n",
              "      <td>12</td>\n",
              "    </tr>\n",
              "    <tr>\n",
              "      <th>2</th>\n",
              "      <td>2495.148862</td>\n",
              "      <td>1.000000</td>\n",
              "      <td>773.17</td>\n",
              "      <td>773.17</td>\n",
              "      <td>0.0</td>\n",
              "      <td>0.000000</td>\n",
              "      <td>1.000000</td>\n",
              "      <td>1.000000</td>\n",
              "      <td>0.000000</td>\n",
              "      <td>0.000000</td>\n",
              "      <td>0</td>\n",
              "      <td>12</td>\n",
              "      <td>7500.0</td>\n",
              "      <td>622.066742</td>\n",
              "      <td>627.284787</td>\n",
              "      <td>0.000000</td>\n",
              "      <td>12</td>\n",
              "    </tr>\n",
              "    <tr>\n",
              "      <th>3</th>\n",
              "      <td>1666.670542</td>\n",
              "      <td>0.636364</td>\n",
              "      <td>1499.00</td>\n",
              "      <td>1499.00</td>\n",
              "      <td>0.0</td>\n",
              "      <td>205.788017</td>\n",
              "      <td>0.083333</td>\n",
              "      <td>0.083333</td>\n",
              "      <td>0.000000</td>\n",
              "      <td>0.083333</td>\n",
              "      <td>1</td>\n",
              "      <td>1</td>\n",
              "      <td>7500.0</td>\n",
              "      <td>0.000000</td>\n",
              "      <td>864.206542</td>\n",
              "      <td>0.000000</td>\n",
              "      <td>12</td>\n",
              "    </tr>\n",
              "    <tr>\n",
              "      <th>4</th>\n",
              "      <td>817.714335</td>\n",
              "      <td>1.000000</td>\n",
              "      <td>16.00</td>\n",
              "      <td>16.00</td>\n",
              "      <td>0.0</td>\n",
              "      <td>0.000000</td>\n",
              "      <td>0.083333</td>\n",
              "      <td>0.083333</td>\n",
              "      <td>0.000000</td>\n",
              "      <td>0.000000</td>\n",
              "      <td>0</td>\n",
              "      <td>1</td>\n",
              "      <td>1200.0</td>\n",
              "      <td>678.334763</td>\n",
              "      <td>244.791237</td>\n",
              "      <td>0.000000</td>\n",
              "      <td>12</td>\n",
              "    </tr>\n",
              "  </tbody>\n",
              "</table>\n",
              "</div>\n",
              "      <button class=\"colab-df-convert\" onclick=\"convertToInteractive('df-18b3a375-35d0-4503-beac-585c944bd016')\"\n",
              "              title=\"Convert this dataframe to an interactive table.\"\n",
              "              style=\"display:none;\">\n",
              "        \n",
              "  <svg xmlns=\"http://www.w3.org/2000/svg\" height=\"24px\"viewBox=\"0 0 24 24\"\n",
              "       width=\"24px\">\n",
              "    <path d=\"M0 0h24v24H0V0z\" fill=\"none\"/>\n",
              "    <path d=\"M18.56 5.44l.94 2.06.94-2.06 2.06-.94-2.06-.94-.94-2.06-.94 2.06-2.06.94zm-11 1L8.5 8.5l.94-2.06 2.06-.94-2.06-.94L8.5 2.5l-.94 2.06-2.06.94zm10 10l.94 2.06.94-2.06 2.06-.94-2.06-.94-.94-2.06-.94 2.06-2.06.94z\"/><path d=\"M17.41 7.96l-1.37-1.37c-.4-.4-.92-.59-1.43-.59-.52 0-1.04.2-1.43.59L10.3 9.45l-7.72 7.72c-.78.78-.78 2.05 0 2.83L4 21.41c.39.39.9.59 1.41.59.51 0 1.02-.2 1.41-.59l7.78-7.78 2.81-2.81c.8-.78.8-2.07 0-2.86zM5.41 20L4 18.59l7.72-7.72 1.47 1.35L5.41 20z\"/>\n",
              "  </svg>\n",
              "      </button>\n",
              "      \n",
              "  <style>\n",
              "    .colab-df-container {\n",
              "      display:flex;\n",
              "      flex-wrap:wrap;\n",
              "      gap: 12px;\n",
              "    }\n",
              "\n",
              "    .colab-df-convert {\n",
              "      background-color: #E8F0FE;\n",
              "      border: none;\n",
              "      border-radius: 50%;\n",
              "      cursor: pointer;\n",
              "      display: none;\n",
              "      fill: #1967D2;\n",
              "      height: 32px;\n",
              "      padding: 0 0 0 0;\n",
              "      width: 32px;\n",
              "    }\n",
              "\n",
              "    .colab-df-convert:hover {\n",
              "      background-color: #E2EBFA;\n",
              "      box-shadow: 0px 1px 2px rgba(60, 64, 67, 0.3), 0px 1px 3px 1px rgba(60, 64, 67, 0.15);\n",
              "      fill: #174EA6;\n",
              "    }\n",
              "\n",
              "    [theme=dark] .colab-df-convert {\n",
              "      background-color: #3B4455;\n",
              "      fill: #D2E3FC;\n",
              "    }\n",
              "\n",
              "    [theme=dark] .colab-df-convert:hover {\n",
              "      background-color: #434B5C;\n",
              "      box-shadow: 0px 1px 3px 1px rgba(0, 0, 0, 0.15);\n",
              "      filter: drop-shadow(0px 1px 2px rgba(0, 0, 0, 0.3));\n",
              "      fill: #FFFFFF;\n",
              "    }\n",
              "  </style>\n",
              "\n",
              "      <script>\n",
              "        const buttonEl =\n",
              "          document.querySelector('#df-18b3a375-35d0-4503-beac-585c944bd016 button.colab-df-convert');\n",
              "        buttonEl.style.display =\n",
              "          google.colab.kernel.accessAllowed ? 'block' : 'none';\n",
              "\n",
              "        async function convertToInteractive(key) {\n",
              "          const element = document.querySelector('#df-18b3a375-35d0-4503-beac-585c944bd016');\n",
              "          const dataTable =\n",
              "            await google.colab.kernel.invokeFunction('convertToInteractive',\n",
              "                                                     [key], {});\n",
              "          if (!dataTable) return;\n",
              "\n",
              "          const docLinkHtml = 'Like what you see? Visit the ' +\n",
              "            '<a target=\"_blank\" href=https://colab.research.google.com/notebooks/data_table.ipynb>data table notebook</a>'\n",
              "            + ' to learn more about interactive tables.';\n",
              "          element.innerHTML = '';\n",
              "          dataTable['output_type'] = 'display_data';\n",
              "          await google.colab.output.renderOutput(dataTable, element);\n",
              "          const docLink = document.createElement('div');\n",
              "          docLink.innerHTML = docLinkHtml;\n",
              "          element.appendChild(docLink);\n",
              "        }\n",
              "      </script>\n",
              "    </div>\n",
              "  </div>\n",
              "  "
            ]
          },
          "metadata": {},
          "execution_count": 17
        }
      ]
    },
    {
      "cell_type": "markdown",
      "source": [
        "Verificando a distribuição dos dados na base"
      ],
      "metadata": {
        "id": "SHHZAgr1qA8r"
      }
    },
    {
      "cell_type": "code",
      "source": [
        "base.hist(bins = 30, figsize=(20,20), color = 'b');"
      ],
      "metadata": {
        "colab": {
          "base_uri": "https://localhost:8080/",
          "height": 1000
        },
        "id": "He0dsT28qAIs",
        "outputId": "f4a93b89-506d-4544-faf3-d05903e1debc"
      },
      "execution_count": 18,
      "outputs": [
        {
          "output_type": "display_data",
          "data": {
            "text/plain": [
              "<Figure size 1440x1440 with 20 Axes>"
            ],
            "image/png": "[encoded data removed]"
          },
          "metadata": {
            "needs_background": "light"
          }
        }
      ]
    },
    {
      "cell_type": "markdown",
      "source": [
        "# **CONSTRUÇÃO DA SOLUÇÃO**"
      ],
      "metadata": {
        "id": "lsVFByVAqXOC"
      }
    },
    {
      "cell_type": "markdown",
      "source": [
        "##**Solução Proposta**"
      ],
      "metadata": {
        "id": "DiBOdqHU0QOC"
      }
    },
    {
      "cell_type": "markdown",
      "source": [
        "Será construido um modelo de Machine Learning de clusterização para divisão dos clientes na base em grupos(clusters) para que assim a empresa possa direcionar campanhas de marketing específicas para cada grupo de acordo com as características do grupo para aumentar a conversão da campanha de Black Friday."
      ],
      "metadata": {
        "id": "o1zIrMx8xs05"
      }
    },
    {
      "cell_type": "markdown",
      "source": [
        "##**Importando Bibliotecas**"
      ],
      "metadata": {
        "id": "MzFAybSMYnxZ"
      }
    },
    {
      "cell_type": "code",
      "source": [
        "from sklearn.preprocessing import StandardScaler\n",
        "from sklearn.cluster import KMeans\n",
        "from sklearn.decomposition import PCA"
      ],
      "metadata": {
        "id": "iZUlBEDGY21A"
      },
      "execution_count": 19,
      "outputs": []
    },
    {
      "cell_type": "markdown",
      "source": [
        "##**Pré-Processamento dos Dados**"
      ],
      "metadata": {
        "id": "LFJ1ZCibYvMR"
      }
    },
    {
      "cell_type": "code",
      "source": [
        "# Colocando os Dados na mesma Escala\n",
        "scaler = StandardScaler()\n",
        "base_Scaled = scaler.fit_transform(base)"
      ],
      "metadata": {
        "id": "H-2XvWduZURQ"
      },
      "execution_count": 20,
      "outputs": []
    },
    {
      "cell_type": "markdown",
      "source": [
        "##**Definição do número de Clusters (Grupos)**"
      ],
      "metadata": {
        "id": "oYS_UJAmwysF"
      }
    },
    {
      "cell_type": "markdown",
      "source": [
        "Como a empresa não tem uma ideia do número de grupos em que deseja dividir os clientes, irei utilizar o método Elbow Method, e utilizar o algoritmo K-Means, que por sem um algoritmo de aprendizado não supervisionado, gerará a divisão em cluster automaticamente através da analise de atributos similares entre os registros\n",
        "\n",
        "- Mais detalhes \n",
        "  - https://en.wikipedia.org/wiki/Elbow_method_(clustering)\n",
        "  - https://www.geeksforgeeks.org/elbow-method-for-optimal-value-of-k-in-kmeans/"
      ],
      "metadata": {
        "id": "R87jYbVt0dT5"
      }
    },
    {
      "cell_type": "code",
      "source": [
        "# Irão ser feito testes em um intervalo de até 20 clusters, então o resultado dos testes será plotado em um gráfico\n",
        "wcss_1 = []\n",
        "range_values = range(1, 20)\n",
        "for i in range_values:\n",
        "  kmeans = KMeans(n_clusters=i)\n",
        "  kmeans.fit(base_Scaled)\n",
        "  wcss_1.append(kmeans.inertia_)"
      ],
      "metadata": {
        "id": "YxTwE7swT4sY"
      },
      "execution_count": 21,
      "outputs": []
    },
    {
      "cell_type": "code",
      "source": [
        "# No Gráfico nos procuramos a área em que a descida da linha começa a ser menos brusca"
      ],
      "metadata": {
        "id": "mBwWWV9QbN0a"
      },
      "execution_count": 22,
      "outputs": []
    },
    {
      "cell_type": "code",
      "source": [
        "plt.plot(wcss_1, 'bx-')\n",
        "plt.xlabel('Clusters')\n",
        "plt.ylabel('WCSS');"
      ],
      "metadata": {
        "colab": {
          "base_uri": "https://localhost:8080/",
          "height": 279
        },
        "id": "PYYGFe9Tbiog",
        "outputId": "d9fb6925-88bd-4924-969e-aa3a21c80110"
      },
      "execution_count": 23,
      "outputs": [
        {
          "output_type": "display_data",
          "data": {
            "text/plain": [
              "<Figure size 432x288 with 1 Axes>"
            ],
            "image/png": "[encoded data removed]"
          },
          "metadata": {
            "needs_background": "light"
          }
        }
      ]
    },
    {
      "cell_type": "markdown",
      "source": [
        "De Acordo com o Método de Elbow, selecionarei 8 clusters/grupos"
      ],
      "metadata": {
        "id": "5f7_rQcdbscJ"
      }
    },
    {
      "cell_type": "markdown",
      "source": [
        "##**Construindo o Modelo**"
      ],
      "metadata": {
        "id": "yFnPWJMBcOf6"
      }
    },
    {
      "cell_type": "code",
      "source": [
        "# Inicializando um modelo com 8 clusters\n",
        "kmeans = KMeans(n_clusters=8)\n",
        "# Inserindo os dados padronizados no modelo\n",
        "kmeans.fit(base_Scaled)\n",
        "labels = kmeans.labels_"
      ],
      "metadata": {
        "id": "MlI9Qa_Fcsju"
      },
      "execution_count": 24,
      "outputs": []
    },
    {
      "cell_type": "code",
      "source": [
        "# Verificando o numero de clientes por grupo\n",
        "np.unique(labels, return_counts=True)"
      ],
      "metadata": {
        "colab": {
          "base_uri": "https://localhost:8080/"
        },
        "id": "pk9vezsxdw-t",
        "outputId": "a81536e2-12b9-4fb8-a78a-74e2c89e2675"
      },
      "execution_count": 25,
      "outputs": [
        {
          "output_type": "execute_result",
          "data": {
            "text/plain": [
              "(array([0, 1, 2, 3, 4, 5, 6, 7], dtype=int32),\n",
              " array([ 623, 2016, 1182, 2752,  872, 1122,   25,  358]))"
            ]
          },
          "metadata": {},
          "execution_count": 25
        }
      ]
    },
    {
      "cell_type": "code",
      "source": [
        "# Criando um Dataframe para poder Analisar Melhor as Caracteristicas de Cada Feature por Grupo\n",
        "cluster_Centers = pd.DataFrame(data = kmeans.cluster_centers_, columns = [base.columns])\n",
        "cluster_Centers"
      ],
      "metadata": {
        "colab": {
          "base_uri": "https://localhost:8080/",
          "height": 364
        },
        "id": "ByGEvntDeSoE",
        "outputId": "29ba66e3-3f1c-4f89-8f8f-e3b77331f8bd"
      },
      "execution_count": 26,
      "outputs": [
        {
          "output_type": "execute_result",
          "data": {
            "text/plain": [
              "    BALANCE BALANCE_FREQUENCY  PURCHASES ONEOFF_PURCHASES  \\\n",
              "0 -0.336228         -0.347383  -0.287908        -0.214195   \n",
              "1 -0.361895          0.332243  -0.034749        -0.242428   \n",
              "2 -0.701251         -2.141884  -0.310520        -0.235029   \n",
              "3  0.012336          0.404100  -0.357063        -0.241815   \n",
              "4  1.683446          0.392882  -0.221106        -0.159097   \n",
              "5 -0.136765          0.399921   0.535282         0.664172   \n",
              "6  1.819469          0.301643  12.207777        12.296446   \n",
              "7  1.044635          0.467595   2.475182         1.820048   \n",
              "\n",
              "  INSTALLMENTS_PURCHASES CASH_ADVANCE PURCHASES_FREQUENCY  \\\n",
              "0              -0.286875     0.067425           -0.201713   \n",
              "1               0.363029    -0.362464            0.993884   \n",
              "2              -0.302316    -0.322150           -0.555316   \n",
              "3              -0.399903    -0.095111           -0.852829   \n",
              "4              -0.230581     2.010094           -0.474634   \n",
              "5               0.045282    -0.331562            0.978531   \n",
              "6               6.272587     0.242957            1.002411   \n",
              "7               2.508863    -0.155349            1.162779   \n",
              "\n",
              "  ONEOFF_PURCHASES_FREQUENCY PURCHASES_INSTALLMENTS_FREQUENCY  \\\n",
              "0                  -0.285924                        -0.224146   \n",
              "1                  -0.384169                         1.206422   \n",
              "2                  -0.442677                        -0.440150   \n",
              "3                  -0.394841                        -0.754250   \n",
              "4                  -0.210303                        -0.413898   \n",
              "5                   1.903070                         0.168494   \n",
              "6                   2.032081                         0.866148   \n",
              "7                   1.563685                         1.267221   \n",
              "\n",
              "  CASH_ADVANCE_FREQUENCY CASH_ADVANCE_TRX PURCHASES_TRX CREDIT_LIMIT  \\\n",
              "0               0.307084         0.000231     -0.387540    -0.563820   \n",
              "1              -0.473142        -0.359917      0.189681    -0.261490   \n",
              "2              -0.521105        -0.376272     -0.419502    -0.175348   \n",
              "3               0.102656        -0.028901     -0.481554    -0.303115   \n",
              "4               1.915248         1.921439     -0.269346     1.027564   \n",
              "5              -0.413992        -0.330318      0.616112     0.428106   \n",
              "6              -0.392172        -0.124384      4.369530     3.261192   \n",
              "7              -0.278814        -0.145341      3.113081     1.290382   \n",
              "\n",
              "   PAYMENTS MINIMUM_PAYMENTS PRC_FULL_PAYMENT    TENURE  \n",
              "0 -0.392784        -0.209266         0.014243 -3.202809  \n",
              "1 -0.214243        -0.030216         0.314029  0.256155  \n",
              "2 -0.202111        -0.256754         0.281920  0.198841  \n",
              "3 -0.250717        -0.011770        -0.455671  0.273520  \n",
              "4  0.818156         0.551843        -0.390382  0.070181  \n",
              "5  0.141135        -0.158759         0.447649  0.268773  \n",
              "6  8.782991         1.003073         1.152351  0.300900  \n",
              "7  1.436111         0.555879         0.246267  0.337720  "
            ],
            "text/html": [
              "\n",
              "  <div id=\"df-c9af2236-b0fe-44c0-9d07-a74f0d7d61d2\">\n",
              "    <div class=\"colab-df-container\">\n",
              "      <div>\n",
              "<style scoped>\n",
              "    .dataframe tbody tr th:only-of-type {\n",
              "        vertical-align: middle;\n",
              "    }\n",
              "\n",
              "    .dataframe tbody tr th {\n",
              "        vertical-align: top;\n",
              "    }\n",
              "\n",
              "    .dataframe thead tr th {\n",
              "        text-align: left;\n",
              "    }\n",
              "</style>\n",
              "<table border=\"1\" class=\"dataframe\">\n",
              "  <thead>\n",
              "    <tr>\n",
              "      <th></th>\n",
              "      <th>BALANCE</th>\n",
              "      <th>BALANCE_FREQUENCY</th>\n",
              "      <th>PURCHASES</th>\n",
              "      <th>ONEOFF_PURCHASES</th>\n",
              "      <th>INSTALLMENTS_PURCHASES</th>\n",
              "      <th>CASH_ADVANCE</th>\n",
              "      <th>PURCHASES_FREQUENCY</th>\n",
              "      <th>ONEOFF_PURCHASES_FREQUENCY</th>\n",
              "      <th>PURCHASES_INSTALLMENTS_FREQUENCY</th>\n",
              "      <th>CASH_ADVANCE_FREQUENCY</th>\n",
              "      <th>CASH_ADVANCE_TRX</th>\n",
              "      <th>PURCHASES_TRX</th>\n",
              "      <th>CREDIT_LIMIT</th>\n",
              "      <th>PAYMENTS</th>\n",
              "      <th>MINIMUM_PAYMENTS</th>\n",
              "      <th>PRC_FULL_PAYMENT</th>\n",
              "      <th>TENURE</th>\n",
              "    </tr>\n",
              "  </thead>\n",
              "  <tbody>\n",
              "    <tr>\n",
              "      <th>0</th>\n",
              "      <td>-0.336228</td>\n",
              "      <td>-0.347383</td>\n",
              "      <td>-0.287908</td>\n",
              "      <td>-0.214195</td>\n",
              "      <td>-0.286875</td>\n",
              "      <td>0.067425</td>\n",
              "      <td>-0.201713</td>\n",
              "      <td>-0.285924</td>\n",
              "      <td>-0.224146</td>\n",
              "      <td>0.307084</td>\n",
              "      <td>0.000231</td>\n",
              "      <td>-0.387540</td>\n",
              "      <td>-0.563820</td>\n",
              "      <td>-0.392784</td>\n",
              "      <td>-0.209266</td>\n",
              "      <td>0.014243</td>\n",
              "      <td>-3.202809</td>\n",
              "    </tr>\n",
              "    <tr>\n",
              "      <th>1</th>\n",
              "      <td>-0.361895</td>\n",
              "      <td>0.332243</td>\n",
              "      <td>-0.034749</td>\n",
              "      <td>-0.242428</td>\n",
              "      <td>0.363029</td>\n",
              "      <td>-0.362464</td>\n",
              "      <td>0.993884</td>\n",
              "      <td>-0.384169</td>\n",
              "      <td>1.206422</td>\n",
              "      <td>-0.473142</td>\n",
              "      <td>-0.359917</td>\n",
              "      <td>0.189681</td>\n",
              "      <td>-0.261490</td>\n",
              "      <td>-0.214243</td>\n",
              "      <td>-0.030216</td>\n",
              "      <td>0.314029</td>\n",
              "      <td>0.256155</td>\n",
              "    </tr>\n",
              "    <tr>\n",
              "      <th>2</th>\n",
              "      <td>-0.701251</td>\n",
              "      <td>-2.141884</td>\n",
              "      <td>-0.310520</td>\n",
              "      <td>-0.235029</td>\n",
              "      <td>-0.302316</td>\n",
              "      <td>-0.322150</td>\n",
              "      <td>-0.555316</td>\n",
              "      <td>-0.442677</td>\n",
              "      <td>-0.440150</td>\n",
              "      <td>-0.521105</td>\n",
              "      <td>-0.376272</td>\n",
              "      <td>-0.419502</td>\n",
              "      <td>-0.175348</td>\n",
              "      <td>-0.202111</td>\n",
              "      <td>-0.256754</td>\n",
              "      <td>0.281920</td>\n",
              "      <td>0.198841</td>\n",
              "    </tr>\n",
              "    <tr>\n",
              "      <th>3</th>\n",
              "      <td>0.012336</td>\n",
              "      <td>0.404100</td>\n",
              "      <td>-0.357063</td>\n",
              "      <td>-0.241815</td>\n",
              "      <td>-0.399903</td>\n",
              "      <td>-0.095111</td>\n",
              "      <td>-0.852829</td>\n",
              "      <td>-0.394841</td>\n",
              "      <td>-0.754250</td>\n",
              "      <td>0.102656</td>\n",
              "      <td>-0.028901</td>\n",
              "      <td>-0.481554</td>\n",
              "      <td>-0.303115</td>\n",
              "      <td>-0.250717</td>\n",
              "      <td>-0.011770</td>\n",
              "      <td>-0.455671</td>\n",
              "      <td>0.273520</td>\n",
              "    </tr>\n",
              "    <tr>\n",
              "      <th>4</th>\n",
              "      <td>1.683446</td>\n",
              "      <td>0.392882</td>\n",
              "      <td>-0.221106</td>\n",
              "      <td>-0.159097</td>\n",
              "      <td>-0.230581</td>\n",
              "      <td>2.010094</td>\n",
              "      <td>-0.474634</td>\n",
              "      <td>-0.210303</td>\n",
              "      <td>-0.413898</td>\n",
              "      <td>1.915248</td>\n",
              "      <td>1.921439</td>\n",
              "      <td>-0.269346</td>\n",
              "      <td>1.027564</td>\n",
              "      <td>0.818156</td>\n",
              "      <td>0.551843</td>\n",
              "      <td>-0.390382</td>\n",
              "      <td>0.070181</td>\n",
              "    </tr>\n",
              "    <tr>\n",
              "      <th>5</th>\n",
              "      <td>-0.136765</td>\n",
              "      <td>0.399921</td>\n",
              "      <td>0.535282</td>\n",
              "      <td>0.664172</td>\n",
              "      <td>0.045282</td>\n",
              "      <td>-0.331562</td>\n",
              "      <td>0.978531</td>\n",
              "      <td>1.903070</td>\n",
              "      <td>0.168494</td>\n",
              "      <td>-0.413992</td>\n",
              "      <td>-0.330318</td>\n",
              "      <td>0.616112</td>\n",
              "      <td>0.428106</td>\n",
              "      <td>0.141135</td>\n",
              "      <td>-0.158759</td>\n",
              "      <td>0.447649</td>\n",
              "      <td>0.268773</td>\n",
              "    </tr>\n",
              "    <tr>\n",
              "      <th>6</th>\n",
              "      <td>1.819469</td>\n",
              "      <td>0.301643</td>\n",
              "      <td>12.207777</td>\n",
              "      <td>12.296446</td>\n",
              "      <td>6.272587</td>\n",
              "      <td>0.242957</td>\n",
              "      <td>1.002411</td>\n",
              "      <td>2.032081</td>\n",
              "      <td>0.866148</td>\n",
              "      <td>-0.392172</td>\n",
              "      <td>-0.124384</td>\n",
              "      <td>4.369530</td>\n",
              "      <td>3.261192</td>\n",
              "      <td>8.782991</td>\n",
              "      <td>1.003073</td>\n",
              "      <td>1.152351</td>\n",
              "      <td>0.300900</td>\n",
              "    </tr>\n",
              "    <tr>\n",
              "      <th>7</th>\n",
              "      <td>1.044635</td>\n",
              "      <td>0.467595</td>\n",
              "      <td>2.475182</td>\n",
              "      <td>1.820048</td>\n",
              "      <td>2.508863</td>\n",
              "      <td>-0.155349</td>\n",
              "      <td>1.162779</td>\n",
              "      <td>1.563685</td>\n",
              "      <td>1.267221</td>\n",
              "      <td>-0.278814</td>\n",
              "      <td>-0.145341</td>\n",
              "      <td>3.113081</td>\n",
              "      <td>1.290382</td>\n",
              "      <td>1.436111</td>\n",
              "      <td>0.555879</td>\n",
              "      <td>0.246267</td>\n",
              "      <td>0.337720</td>\n",
              "    </tr>\n",
              "  </tbody>\n",
              "</table>\n",
              "</div>\n",
              "      <button class=\"colab-df-convert\" onclick=\"convertToInteractive('df-c9af2236-b0fe-44c0-9d07-a74f0d7d61d2')\"\n",
              "              title=\"Convert this dataframe to an interactive table.\"\n",
              "              style=\"display:none;\">\n",
              "        \n",
              "  <svg xmlns=\"http://www.w3.org/2000/svg\" height=\"24px\"viewBox=\"0 0 24 24\"\n",
              "       width=\"24px\">\n",
              "    <path d=\"M0 0h24v24H0V0z\" fill=\"none\"/>\n",
              "    <path d=\"M18.56 5.44l.94 2.06.94-2.06 2.06-.94-2.06-.94-.94-2.06-.94 2.06-2.06.94zm-11 1L8.5 8.5l.94-2.06 2.06-.94-2.06-.94L8.5 2.5l-.94 2.06-2.06.94zm10 10l.94 2.06.94-2.06 2.06-.94-2.06-.94-.94-2.06-.94 2.06-2.06.94z\"/><path d=\"M17.41 7.96l-1.37-1.37c-.4-.4-.92-.59-1.43-.59-.52 0-1.04.2-1.43.59L10.3 9.45l-7.72 7.72c-.78.78-.78 2.05 0 2.83L4 21.41c.39.39.9.59 1.41.59.51 0 1.02-.2 1.41-.59l7.78-7.78 2.81-2.81c.8-.78.8-2.07 0-2.86zM5.41 20L4 18.59l7.72-7.72 1.47 1.35L5.41 20z\"/>\n",
              "  </svg>\n",
              "      </button>\n",
              "      \n",
              "  <style>\n",
              "    .colab-df-container {\n",
              "      display:flex;\n",
              "      flex-wrap:wrap;\n",
              "      gap: 12px;\n",
              "    }\n",
              "\n",
              "    .colab-df-convert {\n",
              "      background-color: #E8F0FE;\n",
              "      border: none;\n",
              "      border-radius: 50%;\n",
              "      cursor: pointer;\n",
              "      display: none;\n",
              "      fill: #1967D2;\n",
              "      height: 32px;\n",
              "      padding: 0 0 0 0;\n",
              "      width: 32px;\n",
              "    }\n",
              "\n",
              "    .colab-df-convert:hover {\n",
              "      background-color: #E2EBFA;\n",
              "      box-shadow: 0px 1px 2px rgba(60, 64, 67, 0.3), 0px 1px 3px 1px rgba(60, 64, 67, 0.15);\n",
              "      fill: #174EA6;\n",
              "    }\n",
              "\n",
              "    [theme=dark] .colab-df-convert {\n",
              "      background-color: #3B4455;\n",
              "      fill: #D2E3FC;\n",
              "    }\n",
              "\n",
              "    [theme=dark] .colab-df-convert:hover {\n",
              "      background-color: #434B5C;\n",
              "      box-shadow: 0px 1px 3px 1px rgba(0, 0, 0, 0.15);\n",
              "      filter: drop-shadow(0px 1px 2px rgba(0, 0, 0, 0.3));\n",
              "      fill: #FFFFFF;\n",
              "    }\n",
              "  </style>\n",
              "\n",
              "      <script>\n",
              "        const buttonEl =\n",
              "          document.querySelector('#df-c9af2236-b0fe-44c0-9d07-a74f0d7d61d2 button.colab-df-convert');\n",
              "        buttonEl.style.display =\n",
              "          google.colab.kernel.accessAllowed ? 'block' : 'none';\n",
              "\n",
              "        async function convertToInteractive(key) {\n",
              "          const element = document.querySelector('#df-c9af2236-b0fe-44c0-9d07-a74f0d7d61d2');\n",
              "          const dataTable =\n",
              "            await google.colab.kernel.invokeFunction('convertToInteractive',\n",
              "                                                     [key], {});\n",
              "          if (!dataTable) return;\n",
              "\n",
              "          const docLinkHtml = 'Like what you see? Visit the ' +\n",
              "            '<a target=\"_blank\" href=https://colab.research.google.com/notebooks/data_table.ipynb>data table notebook</a>'\n",
              "            + ' to learn more about interactive tables.';\n",
              "          element.innerHTML = '';\n",
              "          dataTable['output_type'] = 'display_data';\n",
              "          await google.colab.output.renderOutput(dataTable, element);\n",
              "          const docLink = document.createElement('div');\n",
              "          docLink.innerHTML = docLinkHtml;\n",
              "          element.appendChild(docLink);\n",
              "        }\n",
              "      </script>\n",
              "    </div>\n",
              "  </div>\n",
              "  "
            ]
          },
          "metadata": {},
          "execution_count": 26
        }
      ]
    },
    {
      "cell_type": "code",
      "source": [
        "# Como os dados foram Padronizados para Serem Aplicados ao Modelo eles estão em uma escala muito pequena, agora será feito o processo inverso para trazer os dados a escala padrão e assim\n",
        "# melhorar a visualização\n",
        "\n",
        "cluster_Centers = scaler.inverse_transform(cluster_Centers)\n",
        "cluster_Centers = pd.DataFrame(data = cluster_Centers, columns = [base.columns])\n",
        "cluster_Centers"
      ],
      "metadata": {
        "colab": {
          "base_uri": "https://localhost:8080/",
          "height": 364
        },
        "id": "aRXn76zte6GQ",
        "outputId": "c6250213-7056-428a-c8ad-eb495ba35ad2"
      },
      "execution_count": 27,
      "outputs": [
        {
          "output_type": "execute_result",
          "data": {
            "text/plain": [
              "       BALANCE BALANCE_FREQUENCY     PURCHASES ONEOFF_PURCHASES  \\\n",
              "0   864.645308          0.794979    388.085586       236.917416   \n",
              "1   811.221115          0.955976    928.963824       190.056498   \n",
              "2   104.879787          0.369878    339.774078       202.337758   \n",
              "3  1590.150773          0.972998    240.334753       191.074491   \n",
              "4  5068.425814          0.970341    530.808761       328.369220   \n",
              "5  1279.810158          0.972008   2146.842193      1694.826560   \n",
              "6  5351.546106          0.948727  27085.309200     21002.018800   \n",
              "7  3738.793623          0.988040   6291.468603      3613.343464   \n",
              "\n",
              "  INSTALLMENTS_PURCHASES CASH_ADVANCE PURCHASES_FREQUENCY  \\\n",
              "0             151.649711  1120.263874            0.409393   \n",
              "1             739.350422   218.767056            0.889244   \n",
              "2             137.687420   303.307732            0.267475   \n",
              "3              49.440087   779.418446            0.148069   \n",
              "4             202.556135  5194.132744            0.299857   \n",
              "5             452.015633   283.570919            0.883082   \n",
              "6            6083.290400  1488.363253            0.892667   \n",
              "7            2679.801117   653.097684            0.957030   \n",
              "\n",
              "  ONEOFF_PURCHASES_FREQUENCY PURCHASES_INSTALLMENTS_FREQUENCY  \\\n",
              "0                   0.117161                         0.275356   \n",
              "1                   0.087853                         0.843900   \n",
              "2                   0.070399                         0.189510   \n",
              "3                   0.084669                         0.064679   \n",
              "4                   0.139720                         0.199944   \n",
              "5                   0.770180                         0.431401   \n",
              "6                   0.808667                         0.708667   \n",
              "7                   0.668935                         0.868063   \n",
              "\n",
              "  CASH_ADVANCE_FREQUENCY CASH_ADVANCE_TRX PURCHASES_TRX  CREDIT_LIMIT  \\\n",
              "0               0.196595         3.250401      5.077047   2443.040850   \n",
              "1               0.040464         0.792659     19.424603   3543.040775   \n",
              "2               0.030866         0.681049      4.282572   3856.463151   \n",
              "3               0.155687         3.051599      2.740189   3391.593992   \n",
              "4               0.518405        16.361239      8.014908   8233.147415   \n",
              "5               0.052300         0.994652     30.024064   6052.074218   \n",
              "6               0.056667         2.400000    123.320000  16360.000000   \n",
              "7               0.079351         2.256983     92.089385   9189.385475   \n",
              "\n",
              "       PAYMENTS MINIMUM_PAYMENTS PRC_FULL_PAYMENT     TENURE  \n",
              "0    596.072587       376.521919         0.157880   7.231140  \n",
              "1   1112.930019       793.790415         0.245563  11.860119  \n",
              "2   1148.051951       265.852622         0.236172  11.783418  \n",
              "3   1007.342012       836.777761         0.020439  11.883358  \n",
              "4   4101.625778      2150.253223         0.039535  11.611239  \n",
              "5   2141.716855       494.224337         0.284644  11.877005  \n",
              "6  27159.043527      3201.825604         0.490758  11.920000  \n",
              "7   5890.543674      2159.658010         0.225744  11.969274  "
            ],
            "text/html": [
              "\n",
              "  <div id=\"df-85bbc0b3-f84b-46c2-8747-96d5e9ba5a37\">\n",
              "    <div class=\"colab-df-container\">\n",
              "      <div>\n",
              "<style scoped>\n",
              "    .dataframe tbody tr th:only-of-type {\n",
              "        vertical-align: middle;\n",
              "    }\n",
              "\n",
              "    .dataframe tbody tr th {\n",
              "        vertical-align: top;\n",
              "    }\n",
              "\n",
              "    .dataframe thead tr th {\n",
              "        text-align: left;\n",
              "    }\n",
              "</style>\n",
              "<table border=\"1\" class=\"dataframe\">\n",
              "  <thead>\n",
              "    <tr>\n",
              "      <th></th>\n",
              "      <th>BALANCE</th>\n",
              "      <th>BALANCE_FREQUENCY</th>\n",
              "      <th>PURCHASES</th>\n",
              "      <th>ONEOFF_PURCHASES</th>\n",
              "      <th>INSTALLMENTS_PURCHASES</th>\n",
              "      <th>CASH_ADVANCE</th>\n",
              "      <th>PURCHASES_FREQUENCY</th>\n",
              "      <th>ONEOFF_PURCHASES_FREQUENCY</th>\n",
              "      <th>PURCHASES_INSTALLMENTS_FREQUENCY</th>\n",
              "      <th>CASH_ADVANCE_FREQUENCY</th>\n",
              "      <th>CASH_ADVANCE_TRX</th>\n",
              "      <th>PURCHASES_TRX</th>\n",
              "      <th>CREDIT_LIMIT</th>\n",
              "      <th>PAYMENTS</th>\n",
              "      <th>MINIMUM_PAYMENTS</th>\n",
              "      <th>PRC_FULL_PAYMENT</th>\n",
              "      <th>TENURE</th>\n",
              "    </tr>\n",
              "  </thead>\n",
              "  <tbody>\n",
              "    <tr>\n",
              "      <th>0</th>\n",
              "      <td>864.645308</td>\n",
              "      <td>0.794979</td>\n",
              "      <td>388.085586</td>\n",
              "      <td>236.917416</td>\n",
              "      <td>151.649711</td>\n",
              "      <td>1120.263874</td>\n",
              "      <td>0.409393</td>\n",
              "      <td>0.117161</td>\n",
              "      <td>0.275356</td>\n",
              "      <td>0.196595</td>\n",
              "      <td>3.250401</td>\n",
              "      <td>5.077047</td>\n",
              "      <td>2443.040850</td>\n",
              "      <td>596.072587</td>\n",
              "      <td>376.521919</td>\n",
              "      <td>0.157880</td>\n",
              "      <td>7.231140</td>\n",
              "    </tr>\n",
              "    <tr>\n",
              "      <th>1</th>\n",
              "      <td>811.221115</td>\n",
              "      <td>0.955976</td>\n",
              "      <td>928.963824</td>\n",
              "      <td>190.056498</td>\n",
              "      <td>739.350422</td>\n",
              "      <td>218.767056</td>\n",
              "      <td>0.889244</td>\n",
              "      <td>0.087853</td>\n",
              "      <td>0.843900</td>\n",
              "      <td>0.040464</td>\n",
              "      <td>0.792659</td>\n",
              "      <td>19.424603</td>\n",
              "      <td>3543.040775</td>\n",
              "      <td>1112.930019</td>\n",
              "      <td>793.790415</td>\n",
              "      <td>0.245563</td>\n",
              "      <td>11.860119</td>\n",
              "    </tr>\n",
              "    <tr>\n",
              "      <th>2</th>\n",
              "      <td>104.879787</td>\n",
              "      <td>0.369878</td>\n",
              "      <td>339.774078</td>\n",
              "      <td>202.337758</td>\n",
              "      <td>137.687420</td>\n",
              "      <td>303.307732</td>\n",
              "      <td>0.267475</td>\n",
              "      <td>0.070399</td>\n",
              "      <td>0.189510</td>\n",
              "      <td>0.030866</td>\n",
              "      <td>0.681049</td>\n",
              "      <td>4.282572</td>\n",
              "      <td>3856.463151</td>\n",
              "      <td>1148.051951</td>\n",
              "      <td>265.852622</td>\n",
              "      <td>0.236172</td>\n",
              "      <td>11.783418</td>\n",
              "    </tr>\n",
              "    <tr>\n",
              "      <th>3</th>\n",
              "      <td>1590.150773</td>\n",
              "      <td>0.972998</td>\n",
              "      <td>240.334753</td>\n",
              "      <td>191.074491</td>\n",
              "      <td>49.440087</td>\n",
              "      <td>779.418446</td>\n",
              "      <td>0.148069</td>\n",
              "      <td>0.084669</td>\n",
              "      <td>0.064679</td>\n",
              "      <td>0.155687</td>\n",
              "      <td>3.051599</td>\n",
              "      <td>2.740189</td>\n",
              "      <td>3391.593992</td>\n",
              "      <td>1007.342012</td>\n",
              "      <td>836.777761</td>\n",
              "      <td>0.020439</td>\n",
              "      <td>11.883358</td>\n",
              "    </tr>\n",
              "    <tr>\n",
              "      <th>4</th>\n",
              "      <td>5068.425814</td>\n",
              "      <td>0.970341</td>\n",
              "      <td>530.808761</td>\n",
              "      <td>328.369220</td>\n",
              "      <td>202.556135</td>\n",
              "      <td>5194.132744</td>\n",
              "      <td>0.299857</td>\n",
              "      <td>0.139720</td>\n",
              "      <td>0.199944</td>\n",
              "      <td>0.518405</td>\n",
              "      <td>16.361239</td>\n",
              "      <td>8.014908</td>\n",
              "      <td>8233.147415</td>\n",
              "      <td>4101.625778</td>\n",
              "      <td>2150.253223</td>\n",
              "      <td>0.039535</td>\n",
              "      <td>11.611239</td>\n",
              "    </tr>\n",
              "    <tr>\n",
              "      <th>5</th>\n",
              "      <td>1279.810158</td>\n",
              "      <td>0.972008</td>\n",
              "      <td>2146.842193</td>\n",
              "      <td>1694.826560</td>\n",
              "      <td>452.015633</td>\n",
              "      <td>283.570919</td>\n",
              "      <td>0.883082</td>\n",
              "      <td>0.770180</td>\n",
              "      <td>0.431401</td>\n",
              "      <td>0.052300</td>\n",
              "      <td>0.994652</td>\n",
              "      <td>30.024064</td>\n",
              "      <td>6052.074218</td>\n",
              "      <td>2141.716855</td>\n",
              "      <td>494.224337</td>\n",
              "      <td>0.284644</td>\n",
              "      <td>11.877005</td>\n",
              "    </tr>\n",
              "    <tr>\n",
              "      <th>6</th>\n",
              "      <td>5351.546106</td>\n",
              "      <td>0.948727</td>\n",
              "      <td>27085.309200</td>\n",
              "      <td>21002.018800</td>\n",
              "      <td>6083.290400</td>\n",
              "      <td>1488.363253</td>\n",
              "      <td>0.892667</td>\n",
              "      <td>0.808667</td>\n",
              "      <td>0.708667</td>\n",
              "      <td>0.056667</td>\n",
              "      <td>2.400000</td>\n",
              "      <td>123.320000</td>\n",
              "      <td>16360.000000</td>\n",
              "      <td>27159.043527</td>\n",
              "      <td>3201.825604</td>\n",
              "      <td>0.490758</td>\n",
              "      <td>11.920000</td>\n",
              "    </tr>\n",
              "    <tr>\n",
              "      <th>7</th>\n",
              "      <td>3738.793623</td>\n",
              "      <td>0.988040</td>\n",
              "      <td>6291.468603</td>\n",
              "      <td>3613.343464</td>\n",
              "      <td>2679.801117</td>\n",
              "      <td>653.097684</td>\n",
              "      <td>0.957030</td>\n",
              "      <td>0.668935</td>\n",
              "      <td>0.868063</td>\n",
              "      <td>0.079351</td>\n",
              "      <td>2.256983</td>\n",
              "      <td>92.089385</td>\n",
              "      <td>9189.385475</td>\n",
              "      <td>5890.543674</td>\n",
              "      <td>2159.658010</td>\n",
              "      <td>0.225744</td>\n",
              "      <td>11.969274</td>\n",
              "    </tr>\n",
              "  </tbody>\n",
              "</table>\n",
              "</div>\n",
              "      <button class=\"colab-df-convert\" onclick=\"convertToInteractive('df-85bbc0b3-f84b-46c2-8747-96d5e9ba5a37')\"\n",
              "              title=\"Convert this dataframe to an interactive table.\"\n",
              "              style=\"display:none;\">\n",
              "        \n",
              "  <svg xmlns=\"http://www.w3.org/2000/svg\" height=\"24px\"viewBox=\"0 0 24 24\"\n",
              "       width=\"24px\">\n",
              "    <path d=\"M0 0h24v24H0V0z\" fill=\"none\"/>\n",
              "    <path d=\"M18.56 5.44l.94 2.06.94-2.06 2.06-.94-2.06-.94-.94-2.06-.94 2.06-2.06.94zm-11 1L8.5 8.5l.94-2.06 2.06-.94-2.06-.94L8.5 2.5l-.94 2.06-2.06.94zm10 10l.94 2.06.94-2.06 2.06-.94-2.06-.94-.94-2.06-.94 2.06-2.06.94z\"/><path d=\"M17.41 7.96l-1.37-1.37c-.4-.4-.92-.59-1.43-.59-.52 0-1.04.2-1.43.59L10.3 9.45l-7.72 7.72c-.78.78-.78 2.05 0 2.83L4 21.41c.39.39.9.59 1.41.59.51 0 1.02-.2 1.41-.59l7.78-7.78 2.81-2.81c.8-.78.8-2.07 0-2.86zM5.41 20L4 18.59l7.72-7.72 1.47 1.35L5.41 20z\"/>\n",
              "  </svg>\n",
              "      </button>\n",
              "      \n",
              "  <style>\n",
              "    .colab-df-container {\n",
              "      display:flex;\n",
              "      flex-wrap:wrap;\n",
              "      gap: 12px;\n",
              "    }\n",
              "\n",
              "    .colab-df-convert {\n",
              "      background-color: #E8F0FE;\n",
              "      border: none;\n",
              "      border-radius: 50%;\n",
              "      cursor: pointer;\n",
              "      display: none;\n",
              "      fill: #1967D2;\n",
              "      height: 32px;\n",
              "      padding: 0 0 0 0;\n",
              "      width: 32px;\n",
              "    }\n",
              "\n",
              "    .colab-df-convert:hover {\n",
              "      background-color: #E2EBFA;\n",
              "      box-shadow: 0px 1px 2px rgba(60, 64, 67, 0.3), 0px 1px 3px 1px rgba(60, 64, 67, 0.15);\n",
              "      fill: #174EA6;\n",
              "    }\n",
              "\n",
              "    [theme=dark] .colab-df-convert {\n",
              "      background-color: #3B4455;\n",
              "      fill: #D2E3FC;\n",
              "    }\n",
              "\n",
              "    [theme=dark] .colab-df-convert:hover {\n",
              "      background-color: #434B5C;\n",
              "      box-shadow: 0px 1px 3px 1px rgba(0, 0, 0, 0.15);\n",
              "      filter: drop-shadow(0px 1px 2px rgba(0, 0, 0, 0.3));\n",
              "      fill: #FFFFFF;\n",
              "    }\n",
              "  </style>\n",
              "\n",
              "      <script>\n",
              "        const buttonEl =\n",
              "          document.querySelector('#df-85bbc0b3-f84b-46c2-8747-96d5e9ba5a37 button.colab-df-convert');\n",
              "        buttonEl.style.display =\n",
              "          google.colab.kernel.accessAllowed ? 'block' : 'none';\n",
              "\n",
              "        async function convertToInteractive(key) {\n",
              "          const element = document.querySelector('#df-85bbc0b3-f84b-46c2-8747-96d5e9ba5a37');\n",
              "          const dataTable =\n",
              "            await google.colab.kernel.invokeFunction('convertToInteractive',\n",
              "                                                     [key], {});\n",
              "          if (!dataTable) return;\n",
              "\n",
              "          const docLinkHtml = 'Like what you see? Visit the ' +\n",
              "            '<a target=\"_blank\" href=https://colab.research.google.com/notebooks/data_table.ipynb>data table notebook</a>'\n",
              "            + ' to learn more about interactive tables.';\n",
              "          element.innerHTML = '';\n",
              "          dataTable['output_type'] = 'display_data';\n",
              "          await google.colab.output.renderOutput(dataTable, element);\n",
              "          const docLink = document.createElement('div');\n",
              "          docLink.innerHTML = docLinkHtml;\n",
              "          element.appendChild(docLink);\n",
              "        }\n",
              "      </script>\n",
              "    </div>\n",
              "  </div>\n",
              "  "
            ]
          },
          "metadata": {},
          "execution_count": 27
        }
      ]
    },
    {
      "cell_type": "markdown",
      "source": [
        "**Analisando os Grupos de acordo com o resultado:**"
      ],
      "metadata": {
        "id": "53x1LwUojMhM"
      }
    },
    {
      "cell_type": "markdown",
      "source": [
        "* **Grupo 6 (VIP/Prime)** - **Descrição:** Limite Alto e o Maior Percentual de Pagamento da Fatura Completa. **Estratégia Proposta:** Incentivar as Compras com Cartão de Crédito e possivel aumento do limite.\n",
        "\n",
        "* **Grupo 5 (Tomadores de Emprestimo)** - **Descrição:** Usam o cartão de crédito como \"empréstimo\" (setor mais lucrativo para o banco), possuem muito dinheiro na conta corrente e sacam muito dinheiro do cartão de crédito mas compram pouco e usam bastante o limite do cartão para saques. Pagam muito pouco a fatura completa. **Estratégia Proposta:** Analisar Risco x Retorno e assim decidir a ação a ser tomada.\n",
        "\n",
        "* **Grupo 2 (Cautelosos)** - **Descrição:** Clientes mais Cuidadosos com o Dinheiro, pagam poucos Juros, possuem Pouco Dinheiro em Conta e Não sacam muito dinheiro do limite do Cartão. **Estratégia Proposta:** Exibir as comodidades de se utilizar a conta bancária.\n",
        "\n",
        "* **Grupo 0 (Novos Clientes)** - **Descrição:** Clientes mais novos e que mantém pouco dinheiro na conta corrente. **Estratégia Proposta:** Icentivar o uso da Conta e do Cartão.\n",
        "\n",
        "\n"
      ],
      "metadata": {
        "id": "eSUODlVPjRaf"
      }
    },
    {
      "cell_type": "markdown",
      "source": [
        "**Adicionando as Informações de Grupo para Cada Registro:**"
      ],
      "metadata": {
        "id": "QVMSXD968JXK"
      }
    },
    {
      "cell_type": "code",
      "source": [
        "# Criando um novo dataframe da junção do dataframe original com as informações de cluster\n",
        "base_Cluesterizada = pd.concat([base, pd.DataFrame({'cluster': labels})], axis = 1)\n",
        "\n",
        "# Colocando os registros em ordem\n",
        "base_Ordenada_Grupos = base_Cluesterizada.sort_values(by = 'cluster')"
      ],
      "metadata": {
        "id": "8usgombi8RMy"
      },
      "execution_count": 30,
      "outputs": []
    },
    {
      "cell_type": "markdown",
      "source": [
        "**Salvando a Base**"
      ],
      "metadata": {
        "id": "j8PNeW8lKhSh"
      }
    },
    {
      "cell_type": "code",
      "source": [
        "base_Ordenada_Grupos.to_csv('grupos_Clientes.csv')"
      ],
      "metadata": {
        "id": "TiMa7iQWKmzK"
      },
      "execution_count": 31,
      "outputs": []
    }
  ]
}